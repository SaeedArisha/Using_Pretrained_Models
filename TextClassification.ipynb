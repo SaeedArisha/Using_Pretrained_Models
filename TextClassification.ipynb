{
  "nbformat": 4,
  "nbformat_minor": 0,
  "metadata": {
    "colab": {
      "name": "TextClassification.ipynb",
      "provenance": [],
      "collapsed_sections": [],
      "authorship_tag": "ABX9TyPXDBjvYd9Cl4CLTB3gwk33",
      "include_colab_link": true
    },
    "kernelspec": {
      "name": "python3",
      "display_name": "Python 3"
    }
  },
  "cells": [
    {
      "cell_type": "markdown",
      "metadata": {
        "id": "view-in-github",
        "colab_type": "text"
      },
      "source": [
        "<a href=\"https://colab.research.google.com/github/SaeedArisha/Using_Pretrained_Models/blob/master/TextClassification.ipynb\" target=\"_parent\"><img src=\"https://colab.research.google.com/assets/colab-badge.svg\" alt=\"Open In Colab\"/></a>"
      ]
    },
    {
      "cell_type": "code",
      "metadata": {
        "id": "F8AOZE0on2Cu",
        "colab_type": "code",
        "colab": {}
      },
      "source": [
        "## Text classification using a pre-trained model from TensorHub"
      ],
      "execution_count": 0,
      "outputs": []
    },
    {
      "cell_type": "code",
      "metadata": {
        "id": "O0eWijz_n_GI",
        "colab_type": "code",
        "colab": {}
      },
      "source": [
        "import tensorflow as tf\n",
        "import tensorflow_hub as hub\n",
        "import tensorflow_datasets as tfds"
      ],
      "execution_count": 0,
      "outputs": []
    },
    {
      "cell_type": "code",
      "metadata": {
        "id": "O0BlMTUfoMTG",
        "colab_type": "code",
        "colab": {}
      },
      "source": [
        "splits = [\"train[:60%]\", \"train[-40%:]\", \"test\"]\n",
        "splits, info = tfds.load(name=\"imdb_reviews\", with_info=True, split=splits, as_supervised=True)\n",
        "train_data, validation_data, test_data = splits"
      ],
      "execution_count": 0,
      "outputs": []
    },
    {
      "cell_type": "code",
      "metadata": {
        "id": "as_UrA3Boonv",
        "colab_type": "code",
        "outputId": "283997f1-29ca-4e71-a79f-51f2dcf856f3",
        "colab": {
          "base_uri": "https://localhost:8080/",
          "height": 85
        }
      },
      "source": [
        "num_train_examples = info.splits['train'].num_examples\n",
        "num_test_examples = info.splits['test'].num_examples\n",
        "num_classes = info.features['label'].num_classes\n",
        "\n",
        "print('The Dataset has a total of:')\n",
        "print('\\u2022 {:,} classes'.format(num_classes))\n",
        "\n",
        "print('\\u2022 {:,} movie reviews for training'.format(num_train_examples))\n",
        "print('\\u2022 {:,} movie reviews for testing'.format(num_test_examples))"
      ],
      "execution_count": 0,
      "outputs": [
        {
          "output_type": "stream",
          "text": [
            "The Dataset has a total of:\n",
            "• 2 classes\n",
            "• 25,000 movie reviews for training\n",
            "• 25,000 movie reviews for testing\n"
          ],
          "name": "stdout"
        }
      ]
    },
    {
      "cell_type": "code",
      "metadata": {
        "id": "iIWqfKrco3bO",
        "colab_type": "code",
        "colab": {}
      },
      "source": [
        "class_names = [\"negative\", \"positive\"]"
      ],
      "execution_count": 0,
      "outputs": []
    },
    {
      "cell_type": "code",
      "metadata": {
        "id": "sBdgtUkYpGvJ",
        "colab_type": "code",
        "outputId": "9cb9df21-af49-4eaf-e795-2981921be0b2",
        "colab": {
          "base_uri": "https://localhost:8080/",
          "height": 139
        }
      },
      "source": [
        "for review, label in train_data.take(1):\n",
        "  review = review.numpy()\n",
        "  label = label.numpy()\n",
        "  print('\\nMovie Review:\\n\\n', review)\n",
        "  print('\\nLabel:', class_names[label])"
      ],
      "execution_count": 0,
      "outputs": [
        {
          "output_type": "stream",
          "text": [
            "\n",
            "Movie Review:\n",
            "\n",
            " b\"This was an absolutely terrible movie. Don't be lured in by Christopher Walken or Michael Ironside. Both are great actors, but this must simply be their worst role in history. Even their great acting could not redeem this movie's ridiculous storyline. This movie is an early nineties US propaganda piece. The most pathetic scenes were those when the Columbian rebels were making their cases for revolutions. Maria Conchita Alonso appeared phony, and her pseudo-love affair with Walken was nothing but a pathetic emotional plug in a movie that was devoid of any real meaning. I am disappointed that there are movies like this, ruining actor's like Christopher Walken's good name. I could barely sit through it.\"\n",
            "\n",
            "Label: negative\n"
          ],
          "name": "stdout"
        }
      ]
    },
    {
      "cell_type": "code",
      "metadata": {
        "id": "LZOPmbXspfbu",
        "colab_type": "code",
        "colab": {}
      },
      "source": [
        "# Loading Word Embeddings "
      ],
      "execution_count": 0,
      "outputs": []
    },
    {
      "cell_type": "code",
      "metadata": {
        "id": "7g3txcmAp0rm",
        "colab_type": "code",
        "colab": {}
      },
      "source": [
        "embedding = \"https://tfhub.dev/google/tf2-preview/gnews-swivel-20dim/1\"\n",
        "hub_layer = hub.KerasLayer(embedding, input_shape = [], dtype = tf.string, trainable=True)"
      ],
      "execution_count": 0,
      "outputs": []
    },
    {
      "cell_type": "code",
      "metadata": {
        "id": "xRASjJXlqM44",
        "colab_type": "code",
        "colab": {}
      },
      "source": [
        "#Building Pipeline\n",
        "batch_size =  512\n",
        "\n",
        "train_batches = train_data.shuffle(num_train_examples // 4).batch(batch_size).prefetch(1)\n",
        "validation_batches = validation_data.batch(batch_size).prefetch(1)\n",
        "test_batches = test_data.batch(batch_size)"
      ],
      "execution_count": 0,
      "outputs": []
    },
    {
      "cell_type": "code",
      "metadata": {
        "id": "zed7-xDcqrVi",
        "colab_type": "code",
        "colab": {}
      },
      "source": [
        "#Building model over a predefined model \n",
        "\n",
        "model = tf.keras.Sequential([\n",
        "                            hub_layer,\n",
        "                            tf.keras.layers.Dense(16,activation=\"relu\"),\n",
        "                            tf.keras.layers.Dense(1, activation=\"sigmoid\")\n",
        "])"
      ],
      "execution_count": 0,
      "outputs": []
    },
    {
      "cell_type": "code",
      "metadata": {
        "id": "PTkwSTnyrRXb",
        "colab_type": "code",
        "outputId": "29a3b4fc-8af7-499e-94cf-19c9ad5a83ff",
        "colab": {
          "base_uri": "https://localhost:8080/",
          "height": 697
        }
      },
      "source": [
        "#Training the model\n",
        "model.compile(optimizer='adam',\n",
        "              loss='binary_crossentropy',\n",
        "              metrics=['accuracy'])\n",
        "\n",
        "prediction  = model.fit(train_batches, epochs=20, validation_data=validation_batches, verbose=1 )"
      ],
      "execution_count": 0,
      "outputs": [
        {
          "output_type": "stream",
          "text": [
            "Epoch 1/20\n",
            "30/30 [==============================] - 3s 116ms/step - loss: 0.8050 - accuracy: 0.5615 - val_loss: 0.6665 - val_accuracy: 0.6097\n",
            "Epoch 2/20\n",
            "30/30 [==============================] - 3s 108ms/step - loss: 0.6459 - accuracy: 0.6303 - val_loss: 0.6255 - val_accuracy: 0.6539\n",
            "Epoch 3/20\n",
            "30/30 [==============================] - 3s 108ms/step - loss: 0.5975 - accuracy: 0.6829 - val_loss: 0.5819 - val_accuracy: 0.6959\n",
            "Epoch 4/20\n",
            "30/30 [==============================] - 3s 108ms/step - loss: 0.5537 - accuracy: 0.7272 - val_loss: 0.5450 - val_accuracy: 0.7336\n",
            "Epoch 5/20\n",
            "30/30 [==============================] - 3s 111ms/step - loss: 0.5140 - accuracy: 0.7619 - val_loss: 0.5114 - val_accuracy: 0.7611\n",
            "Epoch 6/20\n",
            "30/30 [==============================] - 3s 110ms/step - loss: 0.4764 - accuracy: 0.7885 - val_loss: 0.4796 - val_accuracy: 0.7849\n",
            "Epoch 7/20\n",
            "30/30 [==============================] - 3s 108ms/step - loss: 0.4400 - accuracy: 0.8122 - val_loss: 0.4497 - val_accuracy: 0.8015\n",
            "Epoch 8/20\n",
            "30/30 [==============================] - 3s 109ms/step - loss: 0.4058 - accuracy: 0.8324 - val_loss: 0.4257 - val_accuracy: 0.8137\n",
            "Epoch 9/20\n",
            "30/30 [==============================] - 3s 108ms/step - loss: 0.3746 - accuracy: 0.8467 - val_loss: 0.3989 - val_accuracy: 0.8307\n",
            "Epoch 10/20\n",
            "30/30 [==============================] - 3s 108ms/step - loss: 0.3448 - accuracy: 0.8634 - val_loss: 0.3784 - val_accuracy: 0.8392\n",
            "Epoch 11/20\n",
            "30/30 [==============================] - 3s 110ms/step - loss: 0.3186 - accuracy: 0.8766 - val_loss: 0.3613 - val_accuracy: 0.8478\n",
            "Epoch 12/20\n",
            "30/30 [==============================] - 3s 107ms/step - loss: 0.2958 - accuracy: 0.8854 - val_loss: 0.3465 - val_accuracy: 0.8542\n",
            "Epoch 13/20\n",
            "30/30 [==============================] - 3s 111ms/step - loss: 0.2747 - accuracy: 0.8960 - val_loss: 0.3355 - val_accuracy: 0.8584\n",
            "Epoch 14/20\n",
            "30/30 [==============================] - 3s 110ms/step - loss: 0.2568 - accuracy: 0.9036 - val_loss: 0.3262 - val_accuracy: 0.8635\n",
            "Epoch 15/20\n",
            "30/30 [==============================] - 3s 110ms/step - loss: 0.2399 - accuracy: 0.9111 - val_loss: 0.3177 - val_accuracy: 0.8672\n",
            "Epoch 16/20\n",
            "30/30 [==============================] - 3s 107ms/step - loss: 0.2245 - accuracy: 0.9194 - val_loss: 0.3137 - val_accuracy: 0.8686\n",
            "Epoch 17/20\n",
            "30/30 [==============================] - 3s 109ms/step - loss: 0.2118 - accuracy: 0.9250 - val_loss: 0.3090 - val_accuracy: 0.8707\n",
            "Epoch 18/20\n",
            "30/30 [==============================] - 3s 111ms/step - loss: 0.1995 - accuracy: 0.9303 - val_loss: 0.3040 - val_accuracy: 0.8720\n",
            "Epoch 19/20\n",
            "30/30 [==============================] - 3s 113ms/step - loss: 0.1865 - accuracy: 0.9363 - val_loss: 0.3017 - val_accuracy: 0.8723\n",
            "Epoch 20/20\n",
            "30/30 [==============================] - 3s 107ms/step - loss: 0.1759 - accuracy: 0.9395 - val_loss: 0.3029 - val_accuracy: 0.8736\n"
          ],
          "name": "stdout"
        }
      ]
    },
    {
      "cell_type": "code",
      "metadata": {
        "id": "L0u93dzPrlCk",
        "colab_type": "code",
        "outputId": "b6f15a43-4a2c-4ef8-8538-6e525ddbb1b1",
        "colab": {
          "base_uri": "https://localhost:8080/",
          "height": 68
        }
      },
      "source": [
        "# Evaluating the model\n",
        "\n",
        "score = model.evaluate(test_batches, verbose=1)\n",
        "for metric, value in zip(model.metrics_names, score):\n",
        "    print(metric + ': {:.3}'.format(value))"
      ],
      "execution_count": 0,
      "outputs": [
        {
          "output_type": "stream",
          "text": [
            "49/49 [==============================] - 3s 64ms/step - loss: 0.3239 - accuracy: 0.8642\n",
            "loss: 0.324\n",
            "accuracy: 0.864\n"
          ],
          "name": "stdout"
        }
      ]
    },
    {
      "cell_type": "code",
      "metadata": {
        "id": "KrKjc_Omr6iD",
        "colab_type": "code",
        "colab": {}
      },
      "source": [
        ""
      ],
      "execution_count": 0,
      "outputs": []
    }
  ]
}